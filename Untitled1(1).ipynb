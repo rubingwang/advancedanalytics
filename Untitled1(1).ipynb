{
 "cells": [
  {
   "cell_type": "code",
   "execution_count": 1,
   "id": "ad030b34",
   "metadata": {},
   "outputs": [],
   "source": [
    "import torch\n",
    "import torch.nn as nn\n",
    "import torchvision\n",
    "import torchvision.models as models\n",
    "import pandas as pd\n",
    "import numpy as np\n",
    "#from sklearn.preprocessing import LabelEncoder, OneHotEncoder\n",
    "from sklearn.preprocessing import LabelEncoder\n",
    "from sklearn.model_selection import train_test_split\n",
    "import torchvision.transforms as transforms\n",
    "from torch.utils.data import Dataset, DataLoader\n",
    "from zipfile import ZipFile\n",
    "from PIL import Image\n",
    "import os\n",
    "import torch\n",
    "import torch.nn as nn\n",
    "import torch.optim as optim\n",
    "import torchvision.transforms as transforms\n",
    "from torch.utils.data import DataLoader, random_split\n",
    "from torchvision.datasets import ImageFolder\n",
    "from torchvision.models import resnet50"
   ]
  },
  {
   "cell_type": "code",
   "execution_count": 29,
   "id": "94c0955d",
   "metadata": {},
   "outputs": [],
   "source": [
    "data=pd.read_csv('E:/ass2/merge.csv')\n",
    "dt = pd.DataFrame()\n",
    "dt['imageID'] = data['imageID']\n",
    "dt['label'] = data['cuisine_new']\n",
    "image_name=pd.read_csv('E:/ass2/dataLabel.csv')\n",
    "dt['imageID'] = dt['imageID'].astype(int)\n",
    "name=pd.DataFrame()\n",
    "name['imageID'] = image_name['imageID'].astype(int)\n",
    "name['label']=image_name['cuisine_new']\n",
    "# Merge the two DataFrames based on the 'imageID' column\n",
    "merged_imageID = pd.merge(dt, name, on='imageID',how='inner')\n",
    "#df=merged_imageID\n",
    "#image_path = '/extracted_images/images/'"
   ]
  },
  {
   "cell_type": "code",
   "execution_count": 37,
   "id": "4029583e",
   "metadata": {},
   "outputs": [
    {
     "data": {
      "text/html": [
       "<div>\n",
       "<style scoped>\n",
       "    .dataframe tbody tr th:only-of-type {\n",
       "        vertical-align: middle;\n",
       "    }\n",
       "\n",
       "    .dataframe tbody tr th {\n",
       "        vertical-align: top;\n",
       "    }\n",
       "\n",
       "    .dataframe thead th {\n",
       "        text-align: right;\n",
       "    }\n",
       "</style>\n",
       "<table border=\"1\" class=\"dataframe\">\n",
       "  <thead>\n",
       "    <tr style=\"text-align: right;\">\n",
       "      <th></th>\n",
       "      <th>imageID</th>\n",
       "      <th>cuisine_new</th>\n",
       "    </tr>\n",
       "  </thead>\n",
       "  <tbody>\n",
       "    <tr>\n",
       "      <th>0</th>\n",
       "      <td>1956014</td>\n",
       "      <td>French</td>\n",
       "    </tr>\n",
       "    <tr>\n",
       "      <th>1</th>\n",
       "      <td>2640075</td>\n",
       "      <td>French</td>\n",
       "    </tr>\n",
       "    <tr>\n",
       "      <th>2</th>\n",
       "      <td>2119391</td>\n",
       "      <td>French</td>\n",
       "    </tr>\n",
       "    <tr>\n",
       "      <th>3</th>\n",
       "      <td>2130677</td>\n",
       "      <td>French</td>\n",
       "    </tr>\n",
       "    <tr>\n",
       "      <th>4</th>\n",
       "      <td>2200944</td>\n",
       "      <td>French</td>\n",
       "    </tr>\n",
       "    <tr>\n",
       "      <th>5</th>\n",
       "      <td>2196069</td>\n",
       "      <td>French</td>\n",
       "    </tr>\n",
       "    <tr>\n",
       "      <th>6</th>\n",
       "      <td>2138037</td>\n",
       "      <td>French</td>\n",
       "    </tr>\n",
       "    <tr>\n",
       "      <th>7</th>\n",
       "      <td>2214735</td>\n",
       "      <td>French</td>\n",
       "    </tr>\n",
       "    <tr>\n",
       "      <th>8</th>\n",
       "      <td>2237152</td>\n",
       "      <td>French</td>\n",
       "    </tr>\n",
       "    <tr>\n",
       "      <th>9</th>\n",
       "      <td>2255648</td>\n",
       "      <td>French</td>\n",
       "    </tr>\n",
       "  </tbody>\n",
       "</table>\n",
       "</div>"
      ],
      "text/plain": [
       "   imageID cuisine_new\n",
       "0  1956014      French\n",
       "1  2640075      French\n",
       "2  2119391      French\n",
       "3  2130677      French\n",
       "4  2200944      French\n",
       "5  2196069      French\n",
       "6  2138037      French\n",
       "7  2214735      French\n",
       "8  2237152      French\n",
       "9  2255648      French"
      ]
     },
     "execution_count": 37,
     "metadata": {},
     "output_type": "execute_result"
    }
   ],
   "source": [
    "image_name.head(10)"
   ]
  },
  {
   "cell_type": "code",
   "execution_count": 39,
   "id": "5f460217",
   "metadata": {},
   "outputs": [
    {
     "data": {
      "text/html": [
       "<div>\n",
       "<style scoped>\n",
       "    .dataframe tbody tr th:only-of-type {\n",
       "        vertical-align: middle;\n",
       "    }\n",
       "\n",
       "    .dataframe tbody tr th {\n",
       "        vertical-align: top;\n",
       "    }\n",
       "\n",
       "    .dataframe thead th {\n",
       "        text-align: right;\n",
       "    }\n",
       "</style>\n",
       "<table border=\"1\" class=\"dataframe\">\n",
       "  <thead>\n",
       "    <tr style=\"text-align: right;\">\n",
       "      <th></th>\n",
       "      <th>imageID</th>\n",
       "      <th>label</th>\n",
       "    </tr>\n",
       "  </thead>\n",
       "  <tbody>\n",
       "    <tr>\n",
       "      <th>0</th>\n",
       "      <td>1956014</td>\n",
       "      <td>French</td>\n",
       "    </tr>\n",
       "    <tr>\n",
       "      <th>1</th>\n",
       "      <td>2640075</td>\n",
       "      <td>French</td>\n",
       "    </tr>\n",
       "    <tr>\n",
       "      <th>2</th>\n",
       "      <td>2119391</td>\n",
       "      <td>French</td>\n",
       "    </tr>\n",
       "    <tr>\n",
       "      <th>3</th>\n",
       "      <td>2130677</td>\n",
       "      <td>French</td>\n",
       "    </tr>\n",
       "    <tr>\n",
       "      <th>4</th>\n",
       "      <td>2200944</td>\n",
       "      <td>French</td>\n",
       "    </tr>\n",
       "    <tr>\n",
       "      <th>5</th>\n",
       "      <td>2196069</td>\n",
       "      <td>French</td>\n",
       "    </tr>\n",
       "    <tr>\n",
       "      <th>6</th>\n",
       "      <td>2138037</td>\n",
       "      <td>French</td>\n",
       "    </tr>\n",
       "    <tr>\n",
       "      <th>7</th>\n",
       "      <td>2214735</td>\n",
       "      <td>French</td>\n",
       "    </tr>\n",
       "    <tr>\n",
       "      <th>8</th>\n",
       "      <td>2237152</td>\n",
       "      <td>French</td>\n",
       "    </tr>\n",
       "    <tr>\n",
       "      <th>9</th>\n",
       "      <td>2255648</td>\n",
       "      <td>French</td>\n",
       "    </tr>\n",
       "  </tbody>\n",
       "</table>\n",
       "</div>"
      ],
      "text/plain": [
       "   imageID   label\n",
       "0  1956014  French\n",
       "1  2640075  French\n",
       "2  2119391  French\n",
       "3  2130677  French\n",
       "4  2200944  French\n",
       "5  2196069  French\n",
       "6  2138037  French\n",
       "7  2214735  French\n",
       "8  2237152  French\n",
       "9  2255648  French"
      ]
     },
     "execution_count": 39,
     "metadata": {},
     "output_type": "execute_result"
    }
   ],
   "source": [
    "df=pd.DataFrame()\n",
    "df['imageID']=image_name['imageID']\n",
    "df['label']=image_name['cuisine_new']\n",
    "df.head(10)"
   ]
  },
  {
   "cell_type": "code",
   "execution_count": 40,
   "id": "a8277ae3",
   "metadata": {},
   "outputs": [
    {
     "name": "stdout",
     "output_type": "stream",
     "text": [
      "(23242, 2)\n"
     ]
    }
   ],
   "source": [
    " print(df.shape)"
   ]
  },
  {
   "cell_type": "code",
   "execution_count": 41,
   "id": "84339798",
   "metadata": {},
   "outputs": [],
   "source": [
    "df=df[df['imageID']!=4215425]"
   ]
  },
  {
   "cell_type": "code",
   "execution_count": 42,
   "id": "ccfc8fb1",
   "metadata": {},
   "outputs": [
    {
     "data": {
      "text/plain": [
       "array(['French', 'Japanese', 'Italian', 'Chinese'], dtype=object)"
      ]
     },
     "execution_count": 42,
     "metadata": {},
     "output_type": "execute_result"
    }
   ],
   "source": [
    "df['label'].unique()"
   ]
  },
  {
   "cell_type": "code",
   "execution_count": 43,
   "id": "eaa8f64d",
   "metadata": {},
   "outputs": [],
   "source": [
    "import os\n",
    "from shutil import copyfile\n",
    "import pandas as pd\n",
    "from torchvision.datasets import ImageFolder\n",
    "# Step 1: Create class-specific folders\n",
    "unique_labels = df['label'].unique()\n",
    "image_dir = 'E:/ass2/images/images'\n",
    "unique_labels = df['label'].unique()\n",
    "\n",
    "for label in unique_labels:\n",
    "    folder_path = os.path.join(image_dir, str(label))\n",
    "    os.makedirs(folder_path, exist_ok=True)\n",
    "for index, row in df.iterrows():\n",
    "    image_path = os.path.join(image_dir, str(row['imageID']) + '.jpg')\n",
    "    label_folder = os.path.join(image_dir, str(row['label']))\n",
    "    new_image_path = os.path.join(label_folder, str(row['imageID']) + '.jpg')\n",
    "    copyfile(image_path, new_image_path)"
   ]
  },
  {
   "cell_type": "code",
   "execution_count": 44,
   "id": "7106e5cb",
   "metadata": {},
   "outputs": [],
   "source": [
    "\n",
    "# Step 3: Create the ImageFolder dataset\n",
    "transform = transforms.Compose([\n",
    "    transforms.Resize((224, 224)),\n",
    "    transforms.ToTensor(),\n",
    "    transforms.Normalize(mean=[0.485, 0.456, 0.406], std=[0.229, 0.224, 0.225])\n",
    "])\n",
    "image_dataset = ImageFolder(root=image_dir,transform=transform)\n",
    "# Step 4: Create DataLoader instances\n",
    "\n",
    "batch_size = 32\n",
    "train_size = int(0.8 * len(image_dataset))  # 80% for training\n",
    "val_size = len(image_dataset) - train_size  # Remaining 20% for validation\n",
    "train_dataset, val_dataset = torch.utils.data.random_split(image_dataset, [train_size, val_size])\n",
    "train_loader = DataLoader(train_dataset, batch_size=batch_size, shuffle=True)\n",
    "val_loader = DataLoader(val_dataset, batch_size=batch_size, shuffle=False)"
   ]
  },
  {
   "cell_type": "code",
   "execution_count": 45,
   "id": "643d413e",
   "metadata": {},
   "outputs": [
    {
     "data": {
      "text/plain": [
       "21661"
      ]
     },
     "execution_count": 45,
     "metadata": {},
     "output_type": "execute_result"
    }
   ],
   "source": [
    "len(image_dataset)"
   ]
  },
  {
   "cell_type": "code",
   "execution_count": 46,
   "id": "33152b41",
   "metadata": {},
   "outputs": [
    {
     "name": "stderr",
     "output_type": "stream",
     "text": [
      "C:\\Users\\rstdg\\AppData\\Roaming\\Python\\Python310\\site-packages\\torchvision\\models\\_utils.py:208: UserWarning: The parameter 'pretrained' is deprecated since 0.13 and may be removed in the future, please use 'weights' instead.\n",
      "  warnings.warn(\n",
      "C:\\Users\\rstdg\\AppData\\Roaming\\Python\\Python310\\site-packages\\torchvision\\models\\_utils.py:223: UserWarning: Arguments other than a weight enum or `None` for 'weights' are deprecated since 0.13 and may be removed in the future. The current behavior is equivalent to passing `weights=ResNet50_Weights.IMAGENET1K_V1`. You can also use `weights=ResNet50_Weights.DEFAULT` to get the most up-to-date weights.\n",
      "  warnings.warn(msg)\n"
     ]
    },
    {
     "name": "stdout",
     "output_type": "stream",
     "text": [
      "cuda\n"
     ]
    }
   ],
   "source": [
    "import torch\n",
    "import torch.nn as nn\n",
    "import torch.optim as optim\n",
    "import torchvision.transforms as transforms\n",
    "from torch.utils.data import DataLoader, random_split\n",
    "from torchvision.datasets import ImageFolder\n",
    "from torchvision.models import resnet50\n",
    "\n",
    "# Step 5: Load the pre-trained ResNet model\n",
    "resnet = resnet50(pretrained=True)\n",
    "# Step 6: Modify the last layer of ResNet for the desired number of classes\n",
    "num_classes = len(image_dataset.classes)\n",
    "in_features = resnet.fc.in_features\n",
    "resnet.fc = nn.Linear(in_features, num_classes)\n",
    "\n",
    "# Step 7: Define the loss function and optimizer\n",
    "criterion = nn.CrossEntropyLoss()\n",
    "optimizer = optim.Adam(resnet.parameters(), lr=0.001)\n",
    "\n",
    "# Step 8: Training and validation loop\n",
    "device = torch.device(\"cuda\" if torch.cuda.is_available() else \"cpu\")\n",
    "print(device)\n",
    "resnet = resnet.to(device)"
   ]
  },
  {
   "cell_type": "code",
   "execution_count": 47,
   "id": "96690b40",
   "metadata": {},
   "outputs": [
    {
     "name": "stdout",
     "output_type": "stream",
     "text": [
      "# Validation\n",
      "Epoch 1/10: Train Loss: 1.2805 | Train Acc: 41.61% | Val Loss: 1.2592 | Val Acc: 42.28%\n",
      "# Validation\n",
      "Epoch 2/10: Train Loss: 1.1986 | Train Acc: 45.80% | Val Loss: 1.2333 | Val Acc: 44.54%\n",
      "# Validation\n",
      "Epoch 3/10: Train Loss: 1.1706 | Train Acc: 47.28% | Val Loss: 1.2356 | Val Acc: 45.81%\n",
      "# Validation\n",
      "Epoch 4/10: Train Loss: 1.1586 | Train Acc: 48.07% | Val Loss: 1.2293 | Val Acc: 43.85%\n",
      "# Validation\n",
      "Epoch 5/10: Train Loss: 1.1418 | Train Acc: 48.93% | Val Loss: 1.2404 | Val Acc: 45.26%\n",
      "# Validation\n",
      "Epoch 6/10: Train Loss: 1.1201 | Train Acc: 50.27% | Val Loss: 1.2085 | Val Acc: 47.70%\n",
      "# Validation\n",
      "Epoch 7/10: Train Loss: 1.0945 | Train Acc: 51.54% | Val Loss: 1.1652 | Val Acc: 49.67%\n",
      "# Validation\n",
      "Epoch 8/10: Train Loss: 1.0690 | Train Acc: 52.78% | Val Loss: 1.2164 | Val Acc: 47.87%\n",
      "# Validation\n",
      "Epoch 9/10: Train Loss: 1.0477 | Train Acc: 54.21% | Val Loss: 1.1971 | Val Acc: 50.87%\n",
      "# Validation\n",
      "Epoch 10/10: Train Loss: 1.0051 | Train Acc: 56.44% | Val Loss: 1.2567 | Val Acc: 48.03%\n"
     ]
    }
   ],
   "source": [
    "num_epochs=10\n",
    "for epoch in range(num_epochs):\n",
    "    # Training\n",
    "    resnet.train()\n",
    "    train_loss = 0.0\n",
    "    correct = 0\n",
    "    total = 0\n",
    "    for images, labels in train_loader:\n",
    "        \n",
    "        images = images.to(device)\n",
    "       \n",
    "        labels = labels.to(device)\n",
    "       \n",
    "        \n",
    "        optimizer.zero_grad()\n",
    "        \n",
    "        outputs = resnet(images)\n",
    "        loss = criterion(outputs, labels)\n",
    "        loss.backward()\n",
    "        optimizer.step()\n",
    "        \n",
    "        train_loss += loss.item()\n",
    "        _, predicted = outputs.max(1)\n",
    "        total += labels.size(0)\n",
    "        correct += predicted.eq(labels).sum().item()\n",
    "    \n",
    "    train_accuracy = 100 * correct / total\n",
    "    train_loss /= len(train_loader)\n",
    "    print('# Validation')\n",
    "    # Validation\n",
    "    resnet.eval()\n",
    "    val_loss = 0.0\n",
    "    correct = 0\n",
    "    total = 0\n",
    "\n",
    "    with torch.no_grad():\n",
    "        for images, labels in val_loader:\n",
    "            images = images.to(device)\n",
    "            labels = labels.to(device)\n",
    "            \n",
    "            outputs = resnet(images)\n",
    "            loss = criterion(outputs, labels)\n",
    "            \n",
    "            val_loss += loss.item()\n",
    "            _, predicted = outputs.max(1)\n",
    "            total += labels.size(0)\n",
    "            correct += predicted.eq(labels).sum().item()\n",
    "    \n",
    "    val_accuracy = 100 * correct / total\n",
    "    val_loss /= len(val_loader)\n",
    "    \n",
    "    print(f\"Epoch {epoch+1}/{num_epochs}: Train Loss: {train_loss:.4f} | Train Acc: {train_accuracy:.2f}% | \"\n",
    "          f\"Val Loss: {val_loss:.4f} | Val Acc: {val_accuracy:.2f}%\")\n"
   ]
  },
  {
   "cell_type": "code",
   "execution_count": 48,
   "id": "2d58e343",
   "metadata": {},
   "outputs": [],
   "source": [
    "\n",
    "torch.save(resnet.state_dict(), 'E:/ass2/model.pth')\n",
    "#resnet.load_state_dict(torch.load('E:/ass2/model.pth'))"
   ]
  },
  {
   "cell_type": "code",
   "execution_count": null,
   "id": "7559a126",
   "metadata": {},
   "outputs": [],
   "source": []
  },
  {
   "cell_type": "code",
   "execution_count": 49,
   "id": "4c99eb9c",
   "metadata": {
    "scrolled": true
   },
   "outputs": [
    {
     "name": "stdout",
     "output_type": "stream",
     "text": [
      "Accuracy: 0.4803\n",
      "Precision: 0.4890\n",
      "Recall: 0.4664\n",
      "F1 Score: 0.4425\n"
     ]
    }
   ],
   "source": [
    "import numpy as np\n",
    "import matplotlib.pyplot as plt\n",
    "from sklearn.metrics import roc_curve, auc, accuracy_score, precision_score, recall_score, f1_score\n",
    "# ...\n",
    "# Validation\n",
    "resnet.eval()\n",
    "predicted_labels = []\n",
    "true_labels = []\n",
    "with torch.no_grad():\n",
    "    for images, labels in val_loader:\n",
    "        images = images.to(device)\n",
    "        labels = labels.to(device)\n",
    "        outputs = resnet(images)\n",
    "        _, predicted = outputs.max(1)\n",
    "        \n",
    "        predicted_labels.extend(predicted.cpu().numpy())\n",
    "        true_labels.extend(labels.cpu().numpy())\n",
    "# Compute evaluation metrics\n",
    "accuracy = accuracy_score(true_labels, predicted_labels)\n",
    "precision = precision_score(true_labels, predicted_labels, average='macro')\n",
    "recall = recall_score(true_labels, predicted_labels, average='macro')\n",
    "f1 = f1_score(true_labels, predicted_labels, average='macro')\n",
    "print(f\"Accuracy: {accuracy:.4f}\")\n",
    "print(f\"Precision: {precision:.4f}\")\n",
    "print(f\"Recall: {recall:.4f}\")\n",
    "print(f\"F1 Score: {f1:.4f}\")"
   ]
  },
  {
   "cell_type": "code",
   "execution_count": 63,
   "id": "2e699c6f",
   "metadata": {},
   "outputs": [],
   "source": [
    "val_probs = []\n",
    "val_labels = []\n",
    "with torch.no_grad():\n",
    "    for images, labels in val_loader:\n",
    "        images = images.to(device)\n",
    "        labels = labels.to(device)\n",
    "        outputs = resnet(images)\n",
    "        probabilities = torch.softmax(outputs, dim=1)  # Convert logits to probabilities\n",
    "        val_probs.append(probabilities.cpu().numpy())\n",
    "        val_labels.append(labels.cpu().numpy())\n",
    "val_probs = np.concatenate(val_probs)\n",
    "val_labels = np.concatenate(val_labels)"
   ]
  },
  {
   "cell_type": "code",
   "execution_count": 70,
   "id": "a5b68754",
   "metadata": {},
   "outputs": [
    {
     "data": {
      "image/png": "[encoded data removed]",
      "text/plain": [
       "<Figure size 640x480 with 1 Axes>"
      ]
     },
     "metadata": {},
     "output_type": "display_data"
    }
   ],
   "source": [
    "# Get unique labels from val_labels\n",
    "unique_labels = np.unique(val_labels)\n",
    "# Create label-to-integer mapping\n",
    "label_mapping = {label: i for i, label in enumerate(unique_labels)}\n",
    "# Convert string labels to numerical format\n",
    "val_labels_numeric = np.array([label_mapping[label] for label in val_labels])\n",
    "# Compute predicted probabilities for each class\n",
    "# Assuming you have an array of predicted probabilities called val_probs with shape (num_samples, num_classes)\n",
    "# Compute the ROC curve for each class\n",
    "fpr = dict()\n",
    "tpr = dict()\n",
    "roc_auc = dict()\n",
    "num_classes = len(label_mapping)\n",
    "for class_idx in range(num_classes):\n",
    "    fpr[class_idx], tpr[class_idx], _ = roc_curve((val_labels_numeric == class_idx).astype(int), val_probs[:, class_idx])\n",
    "    roc_auc[class_idx] = auc(fpr[class_idx], tpr[class_idx])\n",
    "# Plot ROC curve for each class\n",
    "plt.figure()\n",
    "colors = ['red', 'blue', 'green', 'orange']  # Customize colors for each class\n",
    "class_labels = list(label_mapping.keys())  # Get the class labels from the mapping\n",
    "for class_idx in range(num_classes):\n",
    "    plt.plot(fpr[class_idx], tpr[class_idx], color=colors[class_idx], label='Class %s (AUC = %0.2f)' % (class_labels[class_idx], roc_auc[class_idx]))\n",
    "plt.plot([0, 1], [0, 1], color='black', linestyle='--')\n",
    "plt.xlim([0.0, 1.0])\n",
    "plt.ylim([0.0, 1.05])\n",
    "plt.xlabel('False Positive Rate')\n",
    "plt.ylabel('True Positive Rate')\n",
    "plt.title('Receiver Operating Characteristic')\n",
    "plt.legend(loc='lower right')\n",
    "plt.show()"
   ]
  },
  {
   "cell_type": "code",
   "execution_count": null,
   "id": "6a2b6cf5",
   "metadata": {},
   "outputs": [],
   "source": []
  },
  {
   "cell_type": "code",
   "execution_count": 61,
   "id": "05791e34",
   "metadata": {},
   "outputs": [
    {
     "data": {
      "text/plain": [
       "3764"
      ]
     },
     "execution_count": 61,
     "metadata": {},
     "output_type": "execute_result"
    }
   ],
   "source": [
    "import gc\n",
    "gc.collect()"
   ]
  },
  {
   "cell_type": "code",
   "execution_count": 60,
   "id": "87fa3b8d",
   "metadata": {},
   "outputs": [
    {
     "data": {
      "text/plain": [
       "['Chinese', 'French', 'Italian', 'Japanese']"
      ]
     },
     "execution_count": 60,
     "metadata": {},
     "output_type": "execute_result"
    }
   ],
   "source": [
    "val_loader.dataset.dataset.classes"
   ]
  },
  {
   "cell_type": "code",
   "execution_count": null,
   "id": "935322a5",
   "metadata": {},
   "outputs": [],
   "source": []
  }
 ],
 "metadata": {
  "kernelspec": {
   "display_name": "Python 3 (ipykernel)",
   "language": "python",
   "name": "python3"
  },
  "language_info": {
   "codemirror_mode": {
    "name": "ipython",
    "version": 3
   },
   "file_extension": ".py",
   "mimetype": "text/x-python",
   "name": "python",
   "nbconvert_exporter": "python",
   "pygments_lexer": "ipython3",
   "version": "3.9.15"
  }
 },
 "nbformat": 4,
 "nbformat_minor": 5
}
