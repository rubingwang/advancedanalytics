{
  "nbformat": 4,
  "nbformat_minor": 0,
  "metadata": {
    "colab": {
      "provenance": []
    },
    "kernelspec": {
      "name": "python3",
      "display_name": "Python 3"
    },
    "language_info": {
      "name": "python"
    }
  },
  "cells": [
    {
      "cell_type": "code",
      "execution_count": 30,
      "metadata": {
        "id": "AfKNAkAKDsG6",
        "colab": {
          "base_uri": "https://localhost:8080/"
        },
        "outputId": "9c333851-4265-470e-fe22-a2a5ad632592"
      },
      "outputs": [
        {
          "output_type": "stream",
          "name": "stdout",
          "text": [
            "<class 'pandas.core.frame.DataFrame'>\n",
            "RangeIndex: 6495 entries, 0 to 6494\n",
            "Data columns (total 9 columns):\n",
            " #   Column                 Non-Null Count  Dtype  \n",
            "---  ------                 --------------  -----  \n",
            " 0   property_id            6495 non-null   int64  \n",
            " 1   reviews_acc            5096 non-null   float64\n",
            " 2   reviews_cleanliness    5098 non-null   float64\n",
            " 3   reviews_checkin        5094 non-null   float64\n",
            " 4   reviews_communication  5099 non-null   float64\n",
            " 5   reviews_location       5092 non-null   float64\n",
            " 6   reviews_value          5090 non-null   float64\n",
            " 7   reviews_per_month      5205 non-null   float64\n",
            " 8   extra                  6490 non-null   object \n",
            "dtypes: float64(7), int64(1), object(1)\n",
            "memory usage: 456.8+ KB\n",
            "<class 'pandas.core.frame.DataFrame'>\n",
            "RangeIndex: 919 entries, 0 to 918\n",
            "Data columns (total 9 columns):\n",
            " #   Column                 Non-Null Count  Dtype  \n",
            "---  ------                 --------------  -----  \n",
            " 0   property_id            919 non-null    int64  \n",
            " 1   reviews_acc            711 non-null    float64\n",
            " 2   reviews_cleanliness    711 non-null    float64\n",
            " 3   reviews_checkin        711 non-null    float64\n",
            " 4   reviews_communication  711 non-null    float64\n",
            " 5   reviews_location       711 non-null    float64\n",
            " 6   reviews_value          711 non-null    float64\n",
            " 7   reviews_per_month      720 non-null    float64\n",
            " 8   extra                  919 non-null    object \n",
            "dtypes: float64(7), int64(1), object(1)\n",
            "memory usage: 64.7+ KB\n"
          ]
        }
      ],
      "source": [
        "import pandas as pd\n",
        "import numpy as np\n",
        "import matplotlib as mpl\n",
        "import matplotlib.pyplot as plt\n",
        "import seaborn as sns\n",
        "import scipy.stats as st\n",
        "from sklearn.impute import KNNImputer\n",
        "import missingno as msno\n",
        "\n",
        "data_test = pd.read_csv(\"test.csv\")\n",
        "data = pd.read_csv(\"train.csv\")\n",
        "\n",
        "# 选择第37到45列\n",
        "df_selected = data.iloc[:,  [0] + list(range(46, 54))]\n",
        "df_selected.head()\n",
        "df_selected.info()\n",
        "\n",
        "# test\n",
        "df_selected_test = data_test.iloc[:,  [0] + list(range(46, 54))]\n",
        "df_selected_test.info()"
      ]
    },
    {
      "cell_type": "code",
      "source": [
        "# 用KNN填補review相關變數的缺失值；用'None'填補Extra的缺失值\n",
        "for column in range(1,8):\n",
        "  # 初始化 KNNImputer 物件\n",
        "  imputer = KNNImputer(n_neighbors=3)\n",
        "\n",
        "  # 將 DataFrame 物件的第 1 欄轉換為 NumPy 陣列\n",
        "  col = df_selected.iloc[:, column].values.reshape(-1, 1)\n",
        "  col_test = df_selected_test.iloc[:, column].values.reshape(-1, 1)\n",
        "\n",
        "  # 使用 KNN 方法填補缺失值\n",
        "  col_imputer = imputer.fit(col)\n",
        "  col_imputed_test = col_imputer.transform(col_test)\n",
        "\n",
        "  # 將填補後的資料放回 DataFrame 物件\n",
        "  df_selected_test.iloc[:, column] = col_imputed_test\n",
        "\n",
        "df_selected[\"extra\"].fillna('None', inplace=True)\n",
        "df_selected.isnull().sum()\n",
        "df_selected_test.info()"
      ],
      "metadata": {
        "colab": {
          "base_uri": "https://localhost:8080/"
        },
        "id": "F3gbX90qhqxT",
        "outputId": "7064c73f-1d8d-475c-8534-16afdd9f9200"
      },
      "execution_count": 31,
      "outputs": [
        {
          "output_type": "stream",
          "name": "stderr",
          "text": [
            "<ipython-input-31-bfb5095aecfd>:15: SettingWithCopyWarning: \n",
            "A value is trying to be set on a copy of a slice from a DataFrame.\n",
            "Try using .loc[row_indexer,col_indexer] = value instead\n",
            "\n",
            "See the caveats in the documentation: https://pandas.pydata.org/pandas-docs/stable/user_guide/indexing.html#returning-a-view-versus-a-copy\n",
            "  df_selected_test.iloc[:, column] = col_imputed_test\n",
            "<ipython-input-31-bfb5095aecfd>:15: SettingWithCopyWarning: \n",
            "A value is trying to be set on a copy of a slice from a DataFrame.\n",
            "Try using .loc[row_indexer,col_indexer] = value instead\n",
            "\n",
            "See the caveats in the documentation: https://pandas.pydata.org/pandas-docs/stable/user_guide/indexing.html#returning-a-view-versus-a-copy\n",
            "  df_selected_test.iloc[:, column] = col_imputed_test\n",
            "<ipython-input-31-bfb5095aecfd>:15: SettingWithCopyWarning: \n",
            "A value is trying to be set on a copy of a slice from a DataFrame.\n",
            "Try using .loc[row_indexer,col_indexer] = value instead\n",
            "\n",
            "See the caveats in the documentation: https://pandas.pydata.org/pandas-docs/stable/user_guide/indexing.html#returning-a-view-versus-a-copy\n",
            "  df_selected_test.iloc[:, column] = col_imputed_test\n",
            "<ipython-input-31-bfb5095aecfd>:15: SettingWithCopyWarning: \n",
            "A value is trying to be set on a copy of a slice from a DataFrame.\n",
            "Try using .loc[row_indexer,col_indexer] = value instead\n",
            "\n",
            "See the caveats in the documentation: https://pandas.pydata.org/pandas-docs/stable/user_guide/indexing.html#returning-a-view-versus-a-copy\n",
            "  df_selected_test.iloc[:, column] = col_imputed_test\n",
            "<ipython-input-31-bfb5095aecfd>:15: SettingWithCopyWarning: \n",
            "A value is trying to be set on a copy of a slice from a DataFrame.\n",
            "Try using .loc[row_indexer,col_indexer] = value instead\n",
            "\n",
            "See the caveats in the documentation: https://pandas.pydata.org/pandas-docs/stable/user_guide/indexing.html#returning-a-view-versus-a-copy\n",
            "  df_selected_test.iloc[:, column] = col_imputed_test\n",
            "<ipython-input-31-bfb5095aecfd>:15: SettingWithCopyWarning: \n",
            "A value is trying to be set on a copy of a slice from a DataFrame.\n",
            "Try using .loc[row_indexer,col_indexer] = value instead\n",
            "\n",
            "See the caveats in the documentation: https://pandas.pydata.org/pandas-docs/stable/user_guide/indexing.html#returning-a-view-versus-a-copy\n",
            "  df_selected_test.iloc[:, column] = col_imputed_test\n"
          ]
        },
        {
          "output_type": "stream",
          "name": "stdout",
          "text": [
            "<class 'pandas.core.frame.DataFrame'>\n",
            "RangeIndex: 919 entries, 0 to 918\n",
            "Data columns (total 9 columns):\n",
            " #   Column                 Non-Null Count  Dtype  \n",
            "---  ------                 --------------  -----  \n",
            " 0   property_id            919 non-null    int64  \n",
            " 1   reviews_acc            919 non-null    float64\n",
            " 2   reviews_cleanliness    919 non-null    float64\n",
            " 3   reviews_checkin        919 non-null    float64\n",
            " 4   reviews_communication  919 non-null    float64\n",
            " 5   reviews_location       919 non-null    float64\n",
            " 6   reviews_value          919 non-null    float64\n",
            " 7   reviews_per_month      919 non-null    float64\n",
            " 8   extra                  919 non-null    object \n",
            "dtypes: float64(7), int64(1), object(1)\n",
            "memory usage: 64.7+ KB\n"
          ]
        },
        {
          "output_type": "stream",
          "name": "stderr",
          "text": [
            "<ipython-input-31-bfb5095aecfd>:15: SettingWithCopyWarning: \n",
            "A value is trying to be set on a copy of a slice from a DataFrame.\n",
            "Try using .loc[row_indexer,col_indexer] = value instead\n",
            "\n",
            "See the caveats in the documentation: https://pandas.pydata.org/pandas-docs/stable/user_guide/indexing.html#returning-a-view-versus-a-copy\n",
            "  df_selected_test.iloc[:, column] = col_imputed_test\n",
            "<ipython-input-31-bfb5095aecfd>:17: SettingWithCopyWarning: \n",
            "A value is trying to be set on a copy of a slice from a DataFrame\n",
            "\n",
            "See the caveats in the documentation: https://pandas.pydata.org/pandas-docs/stable/user_guide/indexing.html#returning-a-view-versus-a-copy\n",
            "  df_selected[\"extra\"].fillna('None', inplace=True)\n"
          ]
        }
      ]
    },
    {
      "cell_type": "code",
      "source": [
        "df_selected['Host Is Superhost'] = df_selected['extra'].str.contains('Host Is Superhost')\n",
        "df_selected['Host Has Profile Pic'] = df_selected['extra'].str.contains('Host Has Profile Pic')\n",
        "df_selected['Host Identity Verified'] = df_selected['extra'].str.contains('Host Identity Verified')\n",
        "df_selected['Is Location Exact'] = df_selected['extra'].str.contains('Is Location Exact')\n",
        "df_selected['Instant Bookable'] = df_selected['extra'].str.contains('Instant Bookable')\n",
        "df_selected['Require Guest Profile Picture'] = df_selected['extra'].str.contains('Require Guest Profile Picture')\n",
        "df_selected['Require Guest Phone Verification'] = df_selected['extra'].str.contains('Require Guest Phone Verification')\n",
        "df_selected['None'] = df_selected['extra'].str.contains('None')\n",
        "\n",
        "df_selected = df_selected.drop('extra', axis=1)\n",
        "print(df_selected.head())\n",
        "\n",
        "df_selected.to_csv('ashley_test_output_file.csv', index=False)"
      ],
      "metadata": {
        "colab": {
          "base_uri": "https://localhost:8080/"
        },
        "id": "CS8IgKpTvoZY",
        "outputId": "b6620f8f-4abf-4caa-b67f-f33468963fc9"
      },
      "execution_count": 32,
      "outputs": [
        {
          "output_type": "stream",
          "name": "stdout",
          "text": [
            "   property_id  reviews_acc  reviews_cleanliness  reviews_checkin  \\\n",
            "0            1         10.0                  9.0             10.0   \n",
            "1            2         10.0                 10.0             10.0   \n",
            "2            3         10.0                 10.0              9.0   \n",
            "3            4         10.0                 10.0             10.0   \n",
            "4            5         10.0                 10.0             10.0   \n",
            "\n",
            "   reviews_communication  reviews_location  reviews_value  reviews_per_month  \\\n",
            "0                   10.0               9.0           10.0               1.31   \n",
            "1                   10.0               8.0           10.0               1.00   \n",
            "2                    9.0               9.0           10.0               0.75   \n",
            "3                   10.0              10.0           10.0               6.90   \n",
            "4                   10.0              10.0           10.0               4.16   \n",
            "\n",
            "   Host Is Superhost  Host Has Profile Pic  Host Identity Verified  \\\n",
            "0              False                  True                   False   \n",
            "1              False                  True                   False   \n",
            "2              False                  True                   False   \n",
            "3               True                  True                    True   \n",
            "4               True                  True                    True   \n",
            "\n",
            "   Is Location Exact  Instant Bookable  Require Guest Profile Picture  \\\n",
            "0              False             False                          False   \n",
            "1               True             False                          False   \n",
            "2               True              True                          False   \n",
            "3               True             False                          False   \n",
            "4               True             False                          False   \n",
            "\n",
            "   Require Guest Phone Verification   None  \n",
            "0                             False  False  \n",
            "1                             False  False  \n",
            "2                             False  False  \n",
            "3                             False  False  \n",
            "4                             False  False  \n"
          ]
        },
        {
          "output_type": "stream",
          "name": "stderr",
          "text": [
            "<ipython-input-32-a81358fc9402>:1: SettingWithCopyWarning: \n",
            "A value is trying to be set on a copy of a slice from a DataFrame.\n",
            "Try using .loc[row_indexer,col_indexer] = value instead\n",
            "\n",
            "See the caveats in the documentation: https://pandas.pydata.org/pandas-docs/stable/user_guide/indexing.html#returning-a-view-versus-a-copy\n",
            "  df_selected['Host Is Superhost'] = df_selected['extra'].str.contains('Host Is Superhost')\n",
            "<ipython-input-32-a81358fc9402>:2: SettingWithCopyWarning: \n",
            "A value is trying to be set on a copy of a slice from a DataFrame.\n",
            "Try using .loc[row_indexer,col_indexer] = value instead\n",
            "\n",
            "See the caveats in the documentation: https://pandas.pydata.org/pandas-docs/stable/user_guide/indexing.html#returning-a-view-versus-a-copy\n",
            "  df_selected['Host Has Profile Pic'] = df_selected['extra'].str.contains('Host Has Profile Pic')\n",
            "<ipython-input-32-a81358fc9402>:3: SettingWithCopyWarning: \n",
            "A value is trying to be set on a copy of a slice from a DataFrame.\n",
            "Try using .loc[row_indexer,col_indexer] = value instead\n",
            "\n",
            "See the caveats in the documentation: https://pandas.pydata.org/pandas-docs/stable/user_guide/indexing.html#returning-a-view-versus-a-copy\n",
            "  df_selected['Host Identity Verified'] = df_selected['extra'].str.contains('Host Identity Verified')\n",
            "<ipython-input-32-a81358fc9402>:4: SettingWithCopyWarning: \n",
            "A value is trying to be set on a copy of a slice from a DataFrame.\n",
            "Try using .loc[row_indexer,col_indexer] = value instead\n",
            "\n",
            "See the caveats in the documentation: https://pandas.pydata.org/pandas-docs/stable/user_guide/indexing.html#returning-a-view-versus-a-copy\n",
            "  df_selected['Is Location Exact'] = df_selected['extra'].str.contains('Is Location Exact')\n",
            "<ipython-input-32-a81358fc9402>:5: SettingWithCopyWarning: \n",
            "A value is trying to be set on a copy of a slice from a DataFrame.\n",
            "Try using .loc[row_indexer,col_indexer] = value instead\n",
            "\n",
            "See the caveats in the documentation: https://pandas.pydata.org/pandas-docs/stable/user_guide/indexing.html#returning-a-view-versus-a-copy\n",
            "  df_selected['Instant Bookable'] = df_selected['extra'].str.contains('Instant Bookable')\n",
            "<ipython-input-32-a81358fc9402>:6: SettingWithCopyWarning: \n",
            "A value is trying to be set on a copy of a slice from a DataFrame.\n",
            "Try using .loc[row_indexer,col_indexer] = value instead\n",
            "\n",
            "See the caveats in the documentation: https://pandas.pydata.org/pandas-docs/stable/user_guide/indexing.html#returning-a-view-versus-a-copy\n",
            "  df_selected['Require Guest Profile Picture'] = df_selected['extra'].str.contains('Require Guest Profile Picture')\n",
            "<ipython-input-32-a81358fc9402>:7: SettingWithCopyWarning: \n",
            "A value is trying to be set on a copy of a slice from a DataFrame.\n",
            "Try using .loc[row_indexer,col_indexer] = value instead\n",
            "\n",
            "See the caveats in the documentation: https://pandas.pydata.org/pandas-docs/stable/user_guide/indexing.html#returning-a-view-versus-a-copy\n",
            "  df_selected['Require Guest Phone Verification'] = df_selected['extra'].str.contains('Require Guest Phone Verification')\n",
            "<ipython-input-32-a81358fc9402>:8: SettingWithCopyWarning: \n",
            "A value is trying to be set on a copy of a slice from a DataFrame.\n",
            "Try using .loc[row_indexer,col_indexer] = value instead\n",
            "\n",
            "See the caveats in the documentation: https://pandas.pydata.org/pandas-docs/stable/user_guide/indexing.html#returning-a-view-versus-a-copy\n",
            "  df_selected['None'] = df_selected['extra'].str.contains('None')\n"
          ]
        }
      ]
    }
  ]
}