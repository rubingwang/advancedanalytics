{
 "cells": [
  {
   "cell_type": "code",
   "execution_count": 1,
   "id": "1100de24",
   "metadata": {},
   "outputs": [],
   "source": [
    "import pandas as pd\n",
    "import numpy as np\n",
    "import matplotlib.pyplot as plt\n",
    "import re\n",
    "import os\n",
    "import string\n",
    "from sklearn.preprocessing import OrdinalEncoder\n",
    "import nltk\n",
    "from nltk.stem import PorterStemmer\n",
    "from nltk.stem.wordnet import WordNetLemmatizer"
   ]
  },
  {
   "cell_type": "code",
   "execution_count": 2,
   "id": "21915add",
   "metadata": {},
   "outputs": [],
   "source": [
    "pd.options.mode.chained_assignment = None  # default='warn'\n"
   ]
  },
  {
   "cell_type": "code",
   "execution_count": 3,
   "id": "55767ab5",
   "metadata": {},
   "outputs": [],
   "source": [
    "#customize possible missing value\n",
    "missing_value_formats = [\"n.a.\",\"?\",\"NA\",\"n/a\", \"na\", \"--\"]\n",
    "train=pd.read_csv(\"/Users/bijiben/Desktop/BDA/advancedanalytics/assignment1/train.csv\", na_values = missing_value_formats)"
   ]
  },
  {
   "cell_type": "code",
   "execution_count": 4,
   "id": "0e9133fb",
   "metadata": {},
   "outputs": [],
   "source": [
    "clear_list=['property_id', 'host_about', 'host_response_time', 'host_response_rate', 'host_nr_listings', 'host_nr_listings_total', \n",
    "      'host_verified', 'booking_price_covers', 'booking_min_nights', 'booking_max_nights', 'property_beds']"
   ]
  },
  {
   "cell_type": "code",
   "execution_count": 5,
   "id": "21cee6aa",
   "metadata": {},
   "outputs": [
    {
     "data": {
      "text/html": [
       "<div>\n",
       "<style scoped>\n",
       "    .dataframe tbody tr th:only-of-type {\n",
       "        vertical-align: middle;\n",
       "    }\n",
       "\n",
       "    .dataframe tbody tr th {\n",
       "        vertical-align: top;\n",
       "    }\n",
       "\n",
       "    .dataframe thead th {\n",
       "        text-align: right;\n",
       "    }\n",
       "</style>\n",
       "<table border=\"1\" class=\"dataframe\">\n",
       "  <thead>\n",
       "    <tr style=\"text-align: right;\">\n",
       "      <th></th>\n",
       "      <th>property_id</th>\n",
       "      <th>host_about</th>\n",
       "      <th>host_response_time</th>\n",
       "      <th>host_response_rate</th>\n",
       "      <th>host_nr_listings</th>\n",
       "      <th>host_nr_listings_total</th>\n",
       "      <th>host_verified</th>\n",
       "      <th>booking_price_covers</th>\n",
       "      <th>booking_min_nights</th>\n",
       "      <th>booking_max_nights</th>\n",
       "      <th>property_beds</th>\n",
       "    </tr>\n",
       "  </thead>\n",
       "  <tbody>\n",
       "    <tr>\n",
       "      <th>0</th>\n",
       "      <td>1</td>\n",
       "      <td>NaN</td>\n",
       "      <td>within a few hours</td>\n",
       "      <td>100.0</td>\n",
       "      <td>1.0</td>\n",
       "      <td>1.0</td>\n",
       "      <td>email, phone, reviews</td>\n",
       "      <td>1</td>\n",
       "      <td>1</td>\n",
       "      <td>1125</td>\n",
       "      <td>1.0</td>\n",
       "    </tr>\n",
       "    <tr>\n",
       "      <th>1</th>\n",
       "      <td>2</td>\n",
       "      <td>NaN</td>\n",
       "      <td>within a few hours</td>\n",
       "      <td>75.0</td>\n",
       "      <td>1.0</td>\n",
       "      <td>1.0</td>\n",
       "      <td>email, phone, reviews</td>\n",
       "      <td>1</td>\n",
       "      <td>2</td>\n",
       "      <td>15</td>\n",
       "      <td>2.0</td>\n",
       "    </tr>\n",
       "    <tr>\n",
       "      <th>2</th>\n",
       "      <td>3</td>\n",
       "      <td>ik ben een expat die alleen mid weeks in Antwe...</td>\n",
       "      <td>within an hour</td>\n",
       "      <td>100.0</td>\n",
       "      <td>1.0</td>\n",
       "      <td>1.0</td>\n",
       "      <td>email, phone, reviews</td>\n",
       "      <td>1</td>\n",
       "      <td>2</td>\n",
       "      <td>1125</td>\n",
       "      <td>1.0</td>\n",
       "    </tr>\n",
       "    <tr>\n",
       "      <th>3</th>\n",
       "      <td>4</td>\n",
       "      <td>Hello,  I was born in the Netherlands and i sp...</td>\n",
       "      <td>within an hour</td>\n",
       "      <td>100.0</td>\n",
       "      <td>2.0</td>\n",
       "      <td>2.0</td>\n",
       "      <td>email, phone, facebook, reviews, jumio</td>\n",
       "      <td>1</td>\n",
       "      <td>1</td>\n",
       "      <td>1125</td>\n",
       "      <td>1.0</td>\n",
       "    </tr>\n",
       "    <tr>\n",
       "      <th>4</th>\n",
       "      <td>5</td>\n",
       "      <td>Hello,  I was born in the Netherlands and i sp...</td>\n",
       "      <td>within an hour</td>\n",
       "      <td>100.0</td>\n",
       "      <td>2.0</td>\n",
       "      <td>2.0</td>\n",
       "      <td>email, phone, facebook, reviews, jumio</td>\n",
       "      <td>1</td>\n",
       "      <td>1</td>\n",
       "      <td>1125</td>\n",
       "      <td>1.0</td>\n",
       "    </tr>\n",
       "  </tbody>\n",
       "</table>\n",
       "</div>"
      ],
      "text/plain": [
       "   property_id                                         host_about  \\\n",
       "0            1                                                NaN   \n",
       "1            2                                                NaN   \n",
       "2            3  ik ben een expat die alleen mid weeks in Antwe...   \n",
       "3            4  Hello,  I was born in the Netherlands and i sp...   \n",
       "4            5  Hello,  I was born in the Netherlands and i sp...   \n",
       "\n",
       "   host_response_time  host_response_rate  host_nr_listings  \\\n",
       "0  within a few hours               100.0               1.0   \n",
       "1  within a few hours                75.0               1.0   \n",
       "2      within an hour               100.0               1.0   \n",
       "3      within an hour               100.0               2.0   \n",
       "4      within an hour               100.0               2.0   \n",
       "\n",
       "   host_nr_listings_total                           host_verified  \\\n",
       "0                     1.0                   email, phone, reviews   \n",
       "1                     1.0                   email, phone, reviews   \n",
       "2                     1.0                   email, phone, reviews   \n",
       "3                     2.0  email, phone, facebook, reviews, jumio   \n",
       "4                     2.0  email, phone, facebook, reviews, jumio   \n",
       "\n",
       "   booking_price_covers  booking_min_nights  booking_max_nights  property_beds  \n",
       "0                     1                   1                1125            1.0  \n",
       "1                     1                   2                  15            2.0  \n",
       "2                     1                   2                1125            1.0  \n",
       "3                     1                   1                1125            1.0  \n",
       "4                     1                   1                1125            1.0  "
      ]
     },
     "execution_count": 5,
     "metadata": {},
     "output_type": "execute_result"
    }
   ],
   "source": [
    "df=train[clear_list]\n",
    "df.head()"
   ]
  },
  {
   "cell_type": "code",
   "execution_count": 6,
   "id": "6d2f7ffc",
   "metadata": {},
   "outputs": [
    {
     "name": "stdout",
     "output_type": "stream",
     "text": [
      "property_id                 int64\n",
      "host_about                 object\n",
      "host_response_time         object\n",
      "host_response_rate        float64\n",
      "host_nr_listings          float64\n",
      "host_nr_listings_total    float64\n",
      "host_verified              object\n",
      "booking_price_covers        int64\n",
      "booking_min_nights          int64\n",
      "booking_max_nights          int64\n",
      "property_beds             float64\n",
      "dtype: object\n"
     ]
    }
   ],
   "source": [
    "#investigate data type \n",
    "types=df.dtypes\n",
    "print(types)"
   ]
  },
  {
   "cell_type": "code",
   "execution_count": 7,
   "id": "f229be29",
   "metadata": {},
   "outputs": [
    {
     "data": {
      "text/plain": [
       "property_id                  0\n",
       "host_about                3107\n",
       "host_response_time        1461\n",
       "host_response_rate        1461\n",
       "host_nr_listings             1\n",
       "host_nr_listings_total       1\n",
       "host_verified                0\n",
       "booking_price_covers         0\n",
       "booking_min_nights           0\n",
       "booking_max_nights           0\n",
       "property_beds               11\n",
       "dtype: int64"
      ]
     },
     "execution_count": 7,
     "metadata": {},
     "output_type": "execute_result"
    }
   ],
   "source": [
    "#check missingness in data\n",
    "df.isnull().sum()\n",
    "#quite lot null values in data, can not directly drop the row"
   ]
  },
  {
   "cell_type": "markdown",
   "id": "0500a064",
   "metadata": {},
   "source": [
    "# impute missingness and encoding"
   ]
  },
  {
   "cell_type": "code",
   "execution_count": 8,
   "id": "3e5a2ac2",
   "metadata": {},
   "outputs": [],
   "source": [
    "#host_nr_listings and host_nr_listings_total\n",
    "#since the outliers in the nr-listing\n",
    "#replace missingness by median\n",
    "df['host_nr_listings'] = df['host_nr_listings'].fillna(df['host_nr_listings'].median())\n",
    "df['host_nr_listings_total'] = df['host_nr_listings_total'].fillna(df['host_nr_listings_total'].median())\n",
    "\n"
   ]
  },
  {
   "cell_type": "code",
   "execution_count": 10,
   "id": "e3e5f992",
   "metadata": {},
   "outputs": [],
   "source": [
    "#11 missingness\n",
    "#hence, use k nereast neighbour imputation\n",
    "from sklearn.impute import KNNImputer\n",
    "imputer = KNNImputer()\n",
    "df['property_beds']=imputer.fit_transform(df[['property_beds']])\n"
   ]
  },
  {
   "cell_type": "code",
   "execution_count": 11,
   "id": "98fb45f4",
   "metadata": {},
   "outputs": [
    {
     "data": {
      "text/plain": [
       "property_id                  0\n",
       "host_about                3107\n",
       "host_response_time        1461\n",
       "host_response_rate        1461\n",
       "host_nr_listings             0\n",
       "host_nr_listings_total       0\n",
       "host_verified                0\n",
       "booking_price_covers         0\n",
       "booking_min_nights           0\n",
       "booking_max_nights           0\n",
       "property_beds                0\n",
       "dtype: int64"
      ]
     },
     "execution_count": 11,
     "metadata": {},
     "output_type": "execute_result"
    }
   ],
   "source": [
    "#check missingness again\n",
    "df.isnull().sum()\n"
   ]
  },
  {
   "cell_type": "code",
   "execution_count": 12,
   "id": "8bf626f4",
   "metadata": {},
   "outputs": [
    {
     "name": "stdout",
     "output_type": "stream",
     "text": [
      "Null values: 1461\n",
      "Proportion: 22.5%\n"
     ]
    },
    {
     "data": {
      "text/plain": [
       "within an hour        0.379061\n",
       "unknown               0.224942\n",
       "within a few hours    0.206467\n",
       "within a day          0.159045\n",
       "a few days or more    0.030485\n",
       "Name: host_response_time, dtype: float64"
      ]
     },
     "execution_count": 12,
     "metadata": {},
     "output_type": "execute_result"
    }
   ],
   "source": [
    "#there are 1461 missingness in host response time and host response rate\n",
    "#can not directly ignore or impute with median or mode\n",
    "#create a value represent missingness\n",
    "print(\"Null values:\", df.host_response_time.isna().sum())\n",
    "print(f\"Proportion: {round((df.host_response_time.isna().sum()/len(df))*100, 1)}%\")\n",
    "\n",
    "df.host_response_time.fillna(\"unknown\", inplace=True)\n",
    "df.host_response_time.value_counts(normalize=True)\n",
    "#5 category in total"
   ]
  },
  {
   "cell_type": "code",
   "execution_count": 13,
   "id": "3407ee40",
   "metadata": {},
   "outputs": [
    {
     "name": "stdout",
     "output_type": "stream",
     "text": [
      "Mean host response rate: 92.0\n",
      "Median host response rate: 100.0\n",
      "Proportion of 100% host response rates: 70.0%\n"
     ]
    }
   ],
   "source": [
    "print(\"Mean host response rate:\", round(df['host_response_rate'].mean(),0))\n",
    "print(\"Median host response rate:\", df['host_response_rate'].median())\n",
    "print(f\"Proportion of 100% host response rates: {round(((df.host_response_rate == 100.0).sum()/df.host_response_rate.count())*100,1)}%\")"
   ]
  },
  {
   "cell_type": "code",
   "execution_count": 14,
   "id": "4c1c121f",
   "metadata": {},
   "outputs": [
    {
     "data": {
      "text/html": [
       "<div>\n",
       "<style scoped>\n",
       "    .dataframe tbody tr th:only-of-type {\n",
       "        vertical-align: middle;\n",
       "    }\n",
       "\n",
       "    .dataframe tbody tr th {\n",
       "        vertical-align: top;\n",
       "    }\n",
       "\n",
       "    .dataframe thead th {\n",
       "        text-align: right;\n",
       "    }\n",
       "</style>\n",
       "<table border=\"1\" class=\"dataframe\">\n",
       "  <thead>\n",
       "    <tr style=\"text-align: right;\">\n",
       "      <th></th>\n",
       "      <th>host_response_time</th>\n",
       "      <th>responsetime_code</th>\n",
       "    </tr>\n",
       "  </thead>\n",
       "  <tbody>\n",
       "    <tr>\n",
       "      <th>0</th>\n",
       "      <td>within a few hours</td>\n",
       "      <td>2.0</td>\n",
       "    </tr>\n",
       "    <tr>\n",
       "      <th>1</th>\n",
       "      <td>within a few hours</td>\n",
       "      <td>2.0</td>\n",
       "    </tr>\n",
       "    <tr>\n",
       "      <th>2</th>\n",
       "      <td>within an hour</td>\n",
       "      <td>1.0</td>\n",
       "    </tr>\n",
       "    <tr>\n",
       "      <th>3</th>\n",
       "      <td>within an hour</td>\n",
       "      <td>1.0</td>\n",
       "    </tr>\n",
       "    <tr>\n",
       "      <th>4</th>\n",
       "      <td>within an hour</td>\n",
       "      <td>1.0</td>\n",
       "    </tr>\n",
       "    <tr>\n",
       "      <th>5</th>\n",
       "      <td>within an hour</td>\n",
       "      <td>1.0</td>\n",
       "    </tr>\n",
       "    <tr>\n",
       "      <th>6</th>\n",
       "      <td>a few days or more</td>\n",
       "      <td>4.0</td>\n",
       "    </tr>\n",
       "    <tr>\n",
       "      <th>7</th>\n",
       "      <td>within an hour</td>\n",
       "      <td>1.0</td>\n",
       "    </tr>\n",
       "    <tr>\n",
       "      <th>8</th>\n",
       "      <td>within a few hours</td>\n",
       "      <td>2.0</td>\n",
       "    </tr>\n",
       "    <tr>\n",
       "      <th>9</th>\n",
       "      <td>within a day</td>\n",
       "      <td>3.0</td>\n",
       "    </tr>\n",
       "    <tr>\n",
       "      <th>10</th>\n",
       "      <td>within a day</td>\n",
       "      <td>3.0</td>\n",
       "    </tr>\n",
       "    <tr>\n",
       "      <th>11</th>\n",
       "      <td>within an hour</td>\n",
       "      <td>1.0</td>\n",
       "    </tr>\n",
       "    <tr>\n",
       "      <th>12</th>\n",
       "      <td>within an hour</td>\n",
       "      <td>1.0</td>\n",
       "    </tr>\n",
       "    <tr>\n",
       "      <th>13</th>\n",
       "      <td>within an hour</td>\n",
       "      <td>1.0</td>\n",
       "    </tr>\n",
       "    <tr>\n",
       "      <th>14</th>\n",
       "      <td>unknown</td>\n",
       "      <td>0.0</td>\n",
       "    </tr>\n",
       "    <tr>\n",
       "      <th>15</th>\n",
       "      <td>unknown</td>\n",
       "      <td>0.0</td>\n",
       "    </tr>\n",
       "    <tr>\n",
       "      <th>16</th>\n",
       "      <td>within an hour</td>\n",
       "      <td>1.0</td>\n",
       "    </tr>\n",
       "    <tr>\n",
       "      <th>17</th>\n",
       "      <td>unknown</td>\n",
       "      <td>0.0</td>\n",
       "    </tr>\n",
       "    <tr>\n",
       "      <th>18</th>\n",
       "      <td>within a day</td>\n",
       "      <td>3.0</td>\n",
       "    </tr>\n",
       "    <tr>\n",
       "      <th>19</th>\n",
       "      <td>within a day</td>\n",
       "      <td>3.0</td>\n",
       "    </tr>\n",
       "  </tbody>\n",
       "</table>\n",
       "</div>"
      ],
      "text/plain": [
       "    host_response_time  responsetime_code\n",
       "0   within a few hours                2.0\n",
       "1   within a few hours                2.0\n",
       "2       within an hour                1.0\n",
       "3       within an hour                1.0\n",
       "4       within an hour                1.0\n",
       "5       within an hour                1.0\n",
       "6   a few days or more                4.0\n",
       "7       within an hour                1.0\n",
       "8   within a few hours                2.0\n",
       "9         within a day                3.0\n",
       "10        within a day                3.0\n",
       "11      within an hour                1.0\n",
       "12      within an hour                1.0\n",
       "13      within an hour                1.0\n",
       "14             unknown                0.0\n",
       "15             unknown                0.0\n",
       "16      within an hour                1.0\n",
       "17             unknown                0.0\n",
       "18        within a day                3.0\n",
       "19        within a day                3.0"
      ]
     },
     "execution_count": 14,
     "metadata": {},
     "output_type": "execute_result"
    }
   ],
   "source": [
    "#encode host_response time\n",
    "#unkonw is encoded as 1\n",
    "ord_enc = OrdinalEncoder(categories=[['unknown', 'within an hour', 'within a few hours', 'within a day', 'a few days or more']])\n",
    "df[\"responsetime_code\"] = ord_enc.fit_transform(df[[\"host_response_time\"]])\n",
    "df[[\"host_response_time\", \"responsetime_code\"]].head(20)\n"
   ]
  },
  {
   "cell_type": "code",
   "execution_count": 15,
   "id": "18ea1461",
   "metadata": {},
   "outputs": [],
   "source": [
    "#use KNN to impute host response rate\n",
    "imputer = KNNImputer()\n",
    "df['host_response_rate']=imputer.fit_transform(df[['host_response_rate']])\n"
   ]
  },
  {
   "cell_type": "code",
   "execution_count": 16,
   "id": "ac646fd2",
   "metadata": {},
   "outputs": [
    {
     "data": {
      "text/plain": [
       "email, phone, reviews                                           1742\n",
       "email, phone, reviews, jumio                                    1461\n",
       "email, phone, facebook, reviews, jumio                           437\n",
       "email, phone, facebook, reviews                                  437\n",
       "email, phone                                                     298\n",
       "                                                                ... \n",
       "email, phone, facebook, google, reviews, kba, work_email           1\n",
       "email, phone, manual_online, manual_offline                        1\n",
       "phone, facebook, jumio, offline_government_id, government_id       1\n",
       "reviews, jumio                                                     1\n",
       "email, phone, linkedin, reviews, work_email                        1\n",
       "Name: host_verified, Length: 147, dtype: int64"
      ]
     },
     "execution_count": 16,
     "metadata": {},
     "output_type": "execute_result"
    }
   ],
   "source": [
    "#process host_verified\n",
    "df.host_verified.value_counts()"
   ]
  },
  {
   "cell_type": "code",
   "execution_count": 17,
   "id": "680b9657",
   "metadata": {},
   "outputs": [
    {
     "data": {
      "text/plain": [
       "0    False\n",
       "1    False\n",
       "2    False\n",
       "3    False\n",
       "4    False\n",
       "5    False\n",
       "6    False\n",
       "7     True\n",
       "8    False\n",
       "9    False\n",
       "Name: logic_host_verified, dtype: bool"
      ]
     },
     "execution_count": 17,
     "metadata": {},
     "output_type": "execute_result"
    }
   ],
   "source": [
    "#convert verifying document with and without official id into booleen and binary data\n",
    "df['logic_host_verified']= df.host_verified.str.contains(\"offline_government_id|government_id|driver’s license|passport|identity card|id|visa\", regex=True)\n",
    "df['logic_host_verified'].head(10)\n"
   ]
  },
  {
   "cell_type": "code",
   "execution_count": 18,
   "id": "e56488d8",
   "metadata": {},
   "outputs": [],
   "source": [
    "train=pd.read_csv(\"/Users/bijiben/Desktop/BDA/advancedanalytics/assignment1/combine_train.csv\", engine='python', dtype={'user_id': int})"
   ]
  },
  {
   "cell_type": "code",
   "execution_count": 19,
   "id": "5f535177",
   "metadata": {},
   "outputs": [],
   "source": [
    "train=train[['property_id', 'property_max_guests']]"
   ]
  },
  {
   "cell_type": "code",
   "execution_count": 20,
   "id": "4fff9a52",
   "metadata": {},
   "outputs": [],
   "source": [
    "df=pd.merge(df, train, on='property_id')"
   ]
  },
  {
   "cell_type": "code",
   "execution_count": 21,
   "id": "e3d5c42f",
   "metadata": {},
   "outputs": [
    {
     "data": {
      "text/plain": [
       "0    0\n",
       "1    3\n",
       "2    1\n",
       "3    1\n",
       "4    1\n",
       "Name: extra_beds, dtype: int64"
      ]
     },
     "execution_count": 21,
     "metadata": {},
     "output_type": "execute_result"
    }
   ],
   "source": [
    "#create new column indicating possible addition bed\n",
    "df['extra_beds']=df['property_max_guests']-df['booking_price_covers']\n",
    "df['extra_beds'].head()"
   ]
  },
  {
   "cell_type": "code",
   "execution_count": 22,
   "id": "ffddfacc",
   "metadata": {},
   "outputs": [
    {
     "data": {
      "text/plain": [
       "property_id                  0\n",
       "host_about                3107\n",
       "host_response_time           0\n",
       "host_response_rate           0\n",
       "host_nr_listings             0\n",
       "host_nr_listings_total       0\n",
       "host_verified                0\n",
       "booking_price_covers         0\n",
       "booking_min_nights           0\n",
       "booking_max_nights           0\n",
       "property_beds                0\n",
       "responsetime_code            0\n",
       "logic_host_verified          0\n",
       "property_max_guests          0\n",
       "extra_beds                   0\n",
       "dtype: int64"
      ]
     },
     "execution_count": 22,
     "metadata": {},
     "output_type": "execute_result"
    }
   ],
   "source": [
    "df.isnull().sum()"
   ]
  },
  {
   "cell_type": "code",
   "execution_count": 23,
   "id": "a4f28eff",
   "metadata": {},
   "outputs": [
    {
     "data": {
      "text/html": [
       "<div>\n",
       "<style scoped>\n",
       "    .dataframe tbody tr th:only-of-type {\n",
       "        vertical-align: middle;\n",
       "    }\n",
       "\n",
       "    .dataframe tbody tr th {\n",
       "        vertical-align: top;\n",
       "    }\n",
       "\n",
       "    .dataframe thead th {\n",
       "        text-align: right;\n",
       "    }\n",
       "</style>\n",
       "<table border=\"1\" class=\"dataframe\">\n",
       "  <thead>\n",
       "    <tr style=\"text-align: right;\">\n",
       "      <th></th>\n",
       "      <th>property_id</th>\n",
       "      <th>host_response_rate</th>\n",
       "      <th>host_nr_listings</th>\n",
       "      <th>host_nr_listings_total</th>\n",
       "      <th>booking_price_covers</th>\n",
       "      <th>booking_min_nights</th>\n",
       "      <th>booking_max_nights</th>\n",
       "      <th>property_beds</th>\n",
       "      <th>responsetime_code</th>\n",
       "      <th>logic_host_verified</th>\n",
       "      <th>extra_beds</th>\n",
       "    </tr>\n",
       "  </thead>\n",
       "  <tbody>\n",
       "    <tr>\n",
       "      <th>0</th>\n",
       "      <td>1</td>\n",
       "      <td>100.0</td>\n",
       "      <td>1.0</td>\n",
       "      <td>1.0</td>\n",
       "      <td>1</td>\n",
       "      <td>1</td>\n",
       "      <td>1125</td>\n",
       "      <td>1.0</td>\n",
       "      <td>2.0</td>\n",
       "      <td>False</td>\n",
       "      <td>0</td>\n",
       "    </tr>\n",
       "    <tr>\n",
       "      <th>1</th>\n",
       "      <td>2</td>\n",
       "      <td>75.0</td>\n",
       "      <td>1.0</td>\n",
       "      <td>1.0</td>\n",
       "      <td>1</td>\n",
       "      <td>2</td>\n",
       "      <td>15</td>\n",
       "      <td>2.0</td>\n",
       "      <td>2.0</td>\n",
       "      <td>False</td>\n",
       "      <td>3</td>\n",
       "    </tr>\n",
       "    <tr>\n",
       "      <th>2</th>\n",
       "      <td>3</td>\n",
       "      <td>100.0</td>\n",
       "      <td>1.0</td>\n",
       "      <td>1.0</td>\n",
       "      <td>1</td>\n",
       "      <td>2</td>\n",
       "      <td>1125</td>\n",
       "      <td>1.0</td>\n",
       "      <td>1.0</td>\n",
       "      <td>False</td>\n",
       "      <td>1</td>\n",
       "    </tr>\n",
       "    <tr>\n",
       "      <th>3</th>\n",
       "      <td>4</td>\n",
       "      <td>100.0</td>\n",
       "      <td>2.0</td>\n",
       "      <td>2.0</td>\n",
       "      <td>1</td>\n",
       "      <td>1</td>\n",
       "      <td>1125</td>\n",
       "      <td>1.0</td>\n",
       "      <td>1.0</td>\n",
       "      <td>False</td>\n",
       "      <td>1</td>\n",
       "    </tr>\n",
       "    <tr>\n",
       "      <th>4</th>\n",
       "      <td>5</td>\n",
       "      <td>100.0</td>\n",
       "      <td>2.0</td>\n",
       "      <td>2.0</td>\n",
       "      <td>1</td>\n",
       "      <td>1</td>\n",
       "      <td>1125</td>\n",
       "      <td>1.0</td>\n",
       "      <td>1.0</td>\n",
       "      <td>False</td>\n",
       "      <td>1</td>\n",
       "    </tr>\n",
       "  </tbody>\n",
       "</table>\n",
       "</div>"
      ],
      "text/plain": [
       "   property_id  host_response_rate  host_nr_listings  host_nr_listings_total  \\\n",
       "0            1               100.0               1.0                     1.0   \n",
       "1            2                75.0               1.0                     1.0   \n",
       "2            3               100.0               1.0                     1.0   \n",
       "3            4               100.0               2.0                     2.0   \n",
       "4            5               100.0               2.0                     2.0   \n",
       "\n",
       "   booking_price_covers  booking_min_nights  booking_max_nights  \\\n",
       "0                     1                   1                1125   \n",
       "1                     1                   2                  15   \n",
       "2                     1                   2                1125   \n",
       "3                     1                   1                1125   \n",
       "4                     1                   1                1125   \n",
       "\n",
       "   property_beds  responsetime_code  logic_host_verified  extra_beds  \n",
       "0            1.0                2.0                False           0  \n",
       "1            2.0                2.0                False           3  \n",
       "2            1.0                1.0                False           1  \n",
       "3            1.0                1.0                False           1  \n",
       "4            1.0                1.0                False           1  "
      ]
     },
     "execution_count": 23,
     "metadata": {},
     "output_type": "execute_result"
    }
   ],
   "source": [
    "#drop unnecessary columns：host_about, host_verified(since already convert to binary variable)\n",
    "df=df.drop(['host_about', 'host_verified', 'property_max_guests','host_response_time'], axis=1)\n",
    "df.head(5)"
   ]
  },
  {
   "cell_type": "code",
   "execution_count": 25,
   "id": "b5757ab9",
   "metadata": {},
   "outputs": [],
   "source": [
    "#export clean data\n",
    "df.to_csv('siwen_train.csv',index=False)\n"
   ]
  },
  {
   "cell_type": "code",
   "execution_count": null,
   "id": "7675cec0",
   "metadata": {},
   "outputs": [],
   "source": []
  }
 ],
 "metadata": {
  "kernelspec": {
   "display_name": "Python 3 (ipykernel)",
   "language": "python",
   "name": "python3"
  },
  "language_info": {
   "codemirror_mode": {
    "name": "ipython",
    "version": 3
   },
   "file_extension": ".py",
   "mimetype": "text/x-python",
   "name": "python",
   "nbconvert_exporter": "python",
   "pygments_lexer": "ipython3",
   "version": "3.9.16"
  }
 },
 "nbformat": 4,
 "nbformat_minor": 5
}
